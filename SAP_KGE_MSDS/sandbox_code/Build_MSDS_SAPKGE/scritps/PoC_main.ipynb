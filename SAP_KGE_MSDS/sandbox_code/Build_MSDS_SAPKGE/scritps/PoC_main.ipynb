{
 "cells": [
  {
   "cell_type": "markdown",
   "id": "a2dea498",
   "metadata": {},
   "source": [
    "### Project Overview\n",
    "You are building a Proof of Concept (PoC) for a Knowledge Graph-based NLP Chatbot for Material Safety Data Sheets (MSDS). The PoC involves:\n",
    "\n",
    "Extracting data from an MSDS PDF using the PyPDF2 library.\n",
    "Parsing the extracted data to generate RDF tuples using NLP techniques with the spaCy library.\n",
    "Utilizing the RDF schema provided in the msds_rdf.ttl file to structure the RDF tuples."
   ]
  },
  {
   "cell_type": "markdown",
   "id": "7976903d",
   "metadata": {},
   "source": [
    "1. Set Up the Python Environment </br>\n",
    "<br>python3 -m venv .venv\n",
    "<br>source .venv/bin/activate   "
   ]
  },
  {
   "cell_type": "code",
   "execution_count": 3,
   "id": "15cf8bfb",
   "metadata": {},
   "outputs": [],
   "source": [
    "# Create a requirements.txt file with the installed packages\n",
    "!pip freeze > requirements.txt"
   ]
  },
  {
   "cell_type": "code",
   "execution_count": null,
   "id": "95cf078d",
   "metadata": {},
   "outputs": [],
   "source": [
    "from pdf_processor import cl_process_pdf\n",
    "from langchain.indexes.graph import GraphIndexCreator\n",
    "from prompt_generator import cl_msds_Ontology_PromptGenerator\n"
   ]
  },
  {
   "cell_type": "markdown",
   "id": "178d301b",
   "metadata": {},
   "source": [
    "2. Extract Data from the PDF\n",
    "Use the PyPDF2 library to extract text from the MSDS PDF file."
   ]
  },
  {
   "cell_type": "code",
   "execution_count": 14,
   "id": "0a750151",
   "metadata": {},
   "outputs": [
    {
     "name": "stdout",
     "output_type": "stream",
     "text": [
      "total chunks: 5\n"
     ]
    }
   ],
   "source": [
    "# Step 1: Create instance of read_pdf\n",
    "path = \"/Users/I310202/Library/CloudStorage/OneDrive-SAPSE/SR@Work/81.Innovations/98.AI_Developments/33.AI_MSDS/Build_MSDS_SAPKGE/Documents/WD-40.pdf\"\n",
    "pdf_reader = cl_process_pdf(path)\n",
    "\n",
    "# Step 2: Extract text from the PDF\n",
    "pdf_doc = pdf_reader.load_documents()\n",
    "pdf_text = pdf_reader.extract_text()\n",
    "\n",
    "# Step 3: Sanitize the extracted text\n",
    "pdf_text = pdf_reader.sanitize_text(pdf_text)\n",
    "\n",
    "# Step 4: Create Chunks\n",
    "chunks = pdf_reader.create_chunks(pdf_doc, chunk_size=1000, chunk_overlap=200)\n",
    "\n",
    "# Step 5: Process documents in parallel to extract graph documents\n",
    "print(f\"total chunks: {len(chunks)}\")"
   ]
  },
  {
   "cell_type": "markdown",
   "id": "d1648c8d",
   "metadata": {},
   "source": [
    "### 3. Extract SDS Ontology"
   ]
  },
  {
   "cell_type": "code",
   "execution_count": 6,
   "id": "3d2096d4",
   "metadata": {},
   "outputs": [],
   "source": [
    "def read_ontology(file_path):\n",
    "    with open(file_path, 'r') as file:\n",
    "        return file.read()\n",
    "\n",
    "sds_ontology = read_ontology(\"msds_ontology.ttl\")"
   ]
  },
  {
   "cell_type": "markdown",
   "id": "d9d48b4e",
   "metadata": {},
   "source": [
    "### 3. Initialize SAP AI Core Foundation model and Invoke the Same"
   ]
  },
  {
   "cell_type": "code",
   "execution_count": 17,
   "id": "df4879b9",
   "metadata": {
    "notebookRunGroups": {
     "groupValue": "1"
    }
   },
   "outputs": [],
   "source": [
    "aic_config = {\n",
    "    \"aic_client_id\": \"sb-367079b3-3023-4300-8c56-7f05b812bbe5!b122220|aicore!b164\",\n",
    "    \"aic_client_secret\": \"664eed88-a51d-40d3-aa44-d99cd7ff09f2$GfLXh5QaFHy8lVMUMZZ7NIGP01yuJCKF4iM8T5EiVOE=\",\n",
    "    \"aic_base_url\": \"https://api.ai.prod.us-east-1.aws.ml.hana.ondemand.com/v2\",\n",
    "    \"aic_auth_url\": \"https://sap-build-training-hcd2uswp.authentication.us10.hana.ondemand.com/oauth/token\",\n",
    "    \"aic_resource_group\": \"default\",\n",
    "    \"foundation_model\": \"gpt-4.1\"  # Use the foundation model as needed\n",
    "}\n",
    "\n",
    "orch_model_params = {\n",
    "    \"orch_url\": \"https://api.ai.prod.us-east-1.aws.ml.hana.ondemand.com/v2/inference/deployments/ddaae0b631e78184\",\n",
    "    \"orch_model\": \"anthropic--claude-4-sonnet\",\n",
    "    \"parameters\": {\n",
    "        \"temperature\": 0.5,\n",
    "        \"max_tokens\": 20000,\n",
    "        \"top_p\": 0.9\n",
    "    }\n",
    "}"
   ]
  },
  {
   "cell_type": "code",
   "execution_count": null,
   "id": "e25fa958",
   "metadata": {},
   "outputs": [
    {
     "name": "stderr",
     "output_type": "stream",
     "text": [
      "INFO:httpx:HTTP Request: POST https://api.ai.prod.us-east-1.aws.ml.hana.ondemand.com/v2/inference/deployments/ded07dd502336fdf/chat/completions?api-version=2024-12-01-preview \"HTTP/1.1 200 OK\"\n"
     ]
    },
    {
     "data": {
      "text/plain": [
       "'The capital of India is **New Delhi**.'"
      ]
     },
     "execution_count": 22,
     "metadata": {},
     "output_type": "execute_result"
    }
   ],
   "source": [
    "from llm_client import CL_Foundation_Service\n",
    "\n",
    "obj_llm = CL_Foundation_Service(aic_config)\n",
    "obj_llm.invoke_llm(\"Capital of India?\", aic_config[\"foundation_model\"],0.7)"
   ]
  },
  {
   "cell_type": "code",
   "execution_count": 8,
   "id": "a840e4f0",
   "metadata": {},
   "outputs": [
    {
     "name": "stdout",
     "output_type": "stream",
     "text": [
      "# Knowledge Graph Extraction Instructions for MSDS\n",
      "\n",
      "## 1. Overview\n",
      "You are an expert system for extracting RDF triples from Material Safety Data Sheets (MSDS) using the provided ontology. Strictly follow the ontology structure and allowed attributes.\n",
      "\n",
      "## 2. SDS Sections\n",
      "Extract information for each of the following 16 SDS sections:\n",
      "SafetyDataSheet, Identification, HazardsIdentification, CompositionInformationOnIngredients, FirstAidMeasures, FireFightingMeasures, AccidentalReleaseMeasures, HandlingAndStorage, ExposureControlsPersonalProtection, PhysicalAndChemicalProperties, StabilityAndReactivity, ToxicologicalInformation, EcologicalInformation, DisposalConsiderations, TransportationInformation, RegulatoryInformation, OtherInformation, Manufacturer, Ingredient, ExposureLimit, Property\n",
      "\n",
      "## 3. Allowed Attributes\n",
      "Only extract properties that match the following allowed attributes (case-insensitive, partial match allowed):\n",
      "Safety Data Sheet, Identification, Hazards Identification, Composition/Information on Ingredients, First Aid Measures, Fire Fighting Measures, Accidental Release Measures, Handling and Storage, Exposure Controls/Personal Protection, Physical and Chemical Properties, Stability and Reactivity, Toxicological Information, Ecological Information, Disposal Considerations, Transportation Information, Regulatory Information, Other Information, Manufacturer, Ingredient, Exposure Limit, Property, has identification, has hazards identification, has composition information on ingredients, has first aid measures, has fire fighting measures, has accidental release measures, has handling and storage, has exposure controls personal protection, has physical and chemical properties, has stability and reactivity, has toxicological information, has ecological information, has disposal considerations, has transportation information, has regulatory information, has other information, SDS date of preparation, product name, product use, restrictions on use, has manufacturer, manufacturer name, manufacturer address, emergency telephone, information telephone, chemical spills telephone, international calls telephone, HCS 2024 / GHS Classification, label element danger, label element hazard statement, label element prevention, label element response, label element storage, label element disposal, has ingredient, ingredient name, CAS number, weight percent, ingredient GHS classification, ingestion first aid, eye contact first aid, skin contact first aid, inhalation first aid, signs and symptoms of exposure, immediate medical attention needed, extinguishing media, specific hazards arising from the chemical, special protective equipment and precautions for fire-fighters, personal precautions, protective equipment and emergency procedures, methods and materials for containment/cleanup, precautions for safe handling, conditions for safe storage, has exposure limit, chemical name, occupational exposure limit, appropriate engineering controls for normal consumer use, eye protection for normal consumer use, skin protection for normal consumer use, respiratory protection for normal consumer use, appropriate engineering controls for workplace use, eye protection for workplace use, skin protection for workplace use, respiratory protection for workplace use, work/hygiene practices, has physical chemical property, property name, property value, reactivity, chemical stability, possibility of hazardous reactions, conditions to avoid, incompatible materials, hazardous decomposition products, inhalation symptoms of overexposure, skin contact symptoms of overexposure, eye contact symptoms of overexposure, ingestion symptoms of overexposure, chronic effects, carcinogen status, reproductive toxicity, acute toxicity estimates, ecotoxicity, persistence and degradability, bioaccumulative potential, mobility in soil, other adverse effects, disposal criteria, DOT surface shipping description, IMDG shipping description, ICAO shipping description, aerosol air transport note, CERCLA 103 reportable quantity, SARA Title III hazard category for Section 311/312, SARA Title III Section 313 toxic chemicals, Section 302 extremely hazardous substances (TPQ), EPA Toxic Substances Control Act (TSCA) status, California Proposition 65 warning, VOC regulations, Canadian Environmental Protection Act, HMIS health rating, HMIS fire hazard rating, HMIS physical hazard rating, revision date, supersedes date, revision summary, prepared by, reviewed by\n",
      "\n",
      "## 4. Output Format\n",
      "- Output RDF triples in the format: (Subject, Predicate, Object)\n",
      "- Use the provided section and attribute names for consistency.\n",
      "- Do not create nodes for numbers or dates; attach them as attributes.\n",
      "- Ignore any information not matching the allowed attributes or sections.\n",
      "\n",
      "## 5. Example\n",
      "MSDS Text:\n",
      "\"\"\"\n",
      "[Document(metadata={'producer': 'Microsoft® Word for Microsoft 365', 'creator': 'Microsoft® Word for Microsoft 365', 'creationdate': '2025-04-24T23:05:13-04:00', 'title': 'Material Safety Data Sheet (MSDS)', 'author': 'Denese Deeds', 'moddate': '2025-04-24T23:05:13-04:00', 'source': '/Users/I310202/Library/CloudStorage/OneDrive-SAPSE/SR@Work/81.Innovations/98.AI_Developments/33.AI_MSDS/Build_MSDS_SAPKGE/Documents/WD-40.pdf', 'total_pages': 5, 'page': 0, 'page_label': '1'}, page_content='Page 1 of 5 \\n \\nSafety Data Sheet \\nCalifornia CARB Compliant \\n1 - Identification \\n \\nProduct Name: WD-40 Multi-Use Product Aerosol  \\n \\nProduct Use: Lubricant, Penetrant, Drives Out \\nMoisture and Protects Surfaces from Corrosion \\n \\nRestrictions on Use: None identified \\n \\nSDS Date of Preparation: November 13, 2024 \\nManufacturer: WD-40 Company \\nAddress: 9715 Businesspark Avenue \\n   San Diego, California, USA \\n  92131 \\nTelephone:  \\nEmergency:      1-888-324-7596  \\nInformation:  1-888-324-7596 \\nChemical Spills: 1-800-424-9300 (Chemtrec) \\n 1-703-527-3887 (International Calls) \\n \\n2 – Hazards Identification \\nHCS 2024/GHS Classification: \\nAerosol Category 1 \\nAspiration Toxicity Category 1 \\nSpecific Target Organ Toxicity Single Exposure Category 3 (nervous system effects)  \\n \\nNote: This product is a consumer product and is labeled in accordance with the US Consumer Product \\nSafety Commission regulations which take precedence over OSHA Hazard Communication labeling. The \\nactual container label will not include the label elements below. The labeling below applies to \\nindustrial/professional products. \\n \\nLabel Elements: \\n \\n \\n \\n \\n        \\nDANGER!   \\nExtremely Flammable Aerosol. \\nPressurized container: may burst if heated. \\nMay be fatal if swallowed and enters airways. \\nMay cause drowsiness or dizziness. \\nPrevention \\nKeep away from heat, hot surfaces, sparks, open flames, and other ignition sources. – No smoking. \\nDo not spray on an open flame or other ignition source. \\nDo not pierce or burn, even after use. \\nAvoid breathing vapors or mists.  \\nUse only outdoors or in a well-ventilated area. \\nResponse \\nIF SWALLOWED: Immediately call a POISON CENTER or physician. Do NOT induce vomiting.  \\nIF INHALED: Remove person to fresh air and keep comfortable for breathing. Call a POISON CENTER or \\nphysician if you feel unwell.  \\nStorage \\nStore locked up. \\nProtect from sunlight. Do not expose to temperatures exceeding 122°F (50°C). Store in a well-ventilated \\nplace. \\nDisposal \\nDispose of contents and container in accordance with local and national regulations.'), Document(metadata={'producer': 'Microsoft® Word for Microsoft 365', 'creator': 'Microsoft® Word for Microsoft 365', 'creationdate': '2025-04-24T23:05:13-04:00', 'title': 'Material Safety Data Sheet (MSDS)', 'author': 'Denese Deeds', 'moddate': '2025-04-24T23:05:13-04:00', 'source': '/Users/I310202/Library/CloudStorage/OneDrive-SAPSE/SR@Work/81.Innovations/98.AI_Developments/33.AI_MSDS/Build_MSDS_SAPKGE/Documents/WD-40.pdf', 'total_pages': 5, 'page': 1, 'page_label': '2'}, page_content='Page 2 of 5 \\n3 - Composition/Information on Ingredients \\nIngredient CAS # Weight Percent US HSC 2024 / GHS \\nClassification \\nLVP Aliphatic Hydrocarbon 64742-47-8 45-50% Aspiration Toxicity Category 1 \\nPetroleum Base Oil 64742-56-9 \\n64742-65-0 \\n64742-53-6 \\n64742-54-7 \\n64742-71-8 \\n<35% Not Hazardous \\nAliphatic Hydrocarbon 64742-47-8 10 - <25% Flammable Liquid Category 3 \\nAspiration Toxicity Category 1 \\nSpecific Target Organ Toxicity \\nSingle Exposure Category 3 \\n(nervous system effects) \\nCarbon Dioxide 124-38-9 2-3% Simple Asphyxiant \\nGas Under Pressure, \\nCompressed Gas \\nNote: The specific chemical identity and exact percentages are a trade secret.  \\n \\n4 – First Aid Measures \\nIngestion (Swallowed): Aspiration Hazard. DO NOT induce vomiting. Call physician, poison control center or \\nthe WD-40 Safety Hotline at 1-888-324-7596 immediately. \\nEye Contact: Flush thoroughly with water. Remove contact lenses if present after the first 5 minutes and \\ncontinue flushing for several more minutes. Get medical attention if irritation persists.  \\nSkin Contact: Wash with soap and water. If irritation develops and persists, get medical attention.  \\nInhalation (Breathing): If irritation is experienced, move to fresh air. Get medical attention if irritation or other \\nsymptoms develop and persist. \\nSigns and Symptoms of Exposure: Harmful or fatal if swallowed. Aspiration of liquid into the lungs during \\nswallowing or vomiting may cause lung damage. May cause eye and respiratory irritation. Inhalation of mists \\nor vapors may cause drowsiness, dizziness, and other nervous system effects. Skin contact may cause \\ndrying of the skin. \\nIndication of Immediate Medical Attention/Special Treatment Needed: Immediate medical attention is \\nneeded for ingestion. \\n \\n5 – Fire Fighting Measures \\nSuitable (and unsuitable) Extinguishing Media: Use water fog, dry chemical, carbon dioxide or foam. Do \\nnot use water jet or flooding amounts of water. Burning product will float on the surface and spread fire. \\nSpecific Hazards Arising from the Chemical: Extremely flammable aerosol. Contents under pressure.  \\nKeep away from ignition sources and open flames. Exposure of containers to extreme heat and flames can \\ncause them to rupture often with violent force. Vapors are heavier than air and may travel along surfaces to \\nremote ignition sources and flash back. Combustion will produce oxides of carbon and hydrocarbons.  \\nSpecial Protective Equipment and Precautions for Fire-Fighters: Firefighters should always wear positive \\npressure self-contained breathing apparatus and full protective clothing. Cool fire-exposed containers with \\nwater. Use shielding to protect against bursting containers. \\n \\n6 – Accidental Release Measures \\nPersonal Precautions, Protective Equipment and Emergency Procedures: Wear appropriate protective \\nclothing (see Section 8). Eliminate all sources of ignition and ventilate the area.  \\nMethods and Materials for Containment/Cleanup: Leaking cans should be placed in a plastic bag or open \\npail until the pressure has dissipated. Contain and collect liquid with an inert absorbent and place in a \\ncontainer for disposal. Clean spill area thoroughly. Report spills to authorities as required.  \\n \\n7 – Handling and Storage'), Document(metadata={'producer': 'Microsoft® Word for Microsoft 365', 'creator': 'Microsoft® Word for Microsoft 365', 'creationdate': '2025-04-24T23:05:13-04:00', 'title': 'Material Safety Data Sheet (MSDS)', 'author': 'Denese Deeds', 'moddate': '2025-04-24T23:05:13-04:00', 'source': '/Users/I310202/Library/CloudStorage/OneDrive-SAPSE/SR@Work/81.Innovations/98.AI_Developments/33.AI_MSDS/Build_MSDS_SAPKGE/Documents/WD-40.pdf', 'total_pages': 5, 'page': 2, 'page_label': '3'}, page_content='Page 3 of 5 \\nPrecautions for Safe Handling: Avoid contact with eyes. Avoid prolonged contact with skin. Avoid breathing \\nvapors or aerosols. Use only with adequate ventilation. Keep away from heat, sparks, pilot lights, hot \\nsurfaces, and open flames. Unplug electrical tools, motors, and appliances before spraying or bringing the \\ncan near any source of electricity. Electricity can burn a hole in the can and cause contents to burst into \\nflames. To avoid serious burn injury, do not let the can touch battery terminals, electrical connect ions on \\nmotors or appliances or any other source of electricity. Wash thoroughly with soap and water after handling. \\nKeep containers closed when not in use. Keep out of the reach of children.  Do not puncture, crush or \\nincinerate containers, even when empty. \\nConditions for Safe Storage: Store in a cool, well-ventilated area, away from incompatible materials. Do not \\nstore above 120\\uf0b0F or in direct sunlight. U.F.C (NFPA 30B) Level 3 Aerosol. Store away from oxidizers. \\n \\n8 – Exposure Controls/Personal Protection \\nChemical Occupational Exposure Limits \\nLVP Aliphatic Hydrocarbon 1200 mg/m3 TWA (manufacturer recommended) \\nPetroleum Base Oil 5 mg/m3 TWA (Inhalable) ACGIH TLV (as Mineral oil) \\n5 mg/m3 TWA OSHA PEL (as Oil mist, mineral) \\nAliphatic Hydrocarbon 1200 mg/m3 TWA (manufacturer recommended) \\nCarbon Dioxide 5000 ppm TWA, 30,000 ppm STEL ACGIH TLV \\n5000 ppm TWA OSHA PEL \\n \\nThe Following Controls are Recommended for Normal Consumer Use of this Product  \\nAppropriate Engineering Controls: Use in a well-ventilated area. \\nPersonal Protection:  \\nEye Protection: Avoid eye contact. Always spray away from your face. \\nSkin Protection: Avoid prolonged skin contact. Chemical resistant gloves recommended for operations \\nwhere skin contact is likely. \\nRespiratory Protection: None needed for normal use with adequate ventilation. \\n \\nFor Bulk Processing or Workplace Use the Following Controls are Recommended  \\nAppropriate Engineering Controls: Use adequate general and local exhaust ventilation to maintain \\nexposure levels below the occupational exposure limits. \\nPersonal Protection: \\nEye Protection: Safety goggles recommended where eye contact is possible. \\nSkin Protection: Wear chemical resistant gloves. \\nRespiratory Protection: None required if ventilation is adequate. If the occupational exposure limits are \\nexceeded, wear a NIOSH approved respirator. Respirator selection and use should be based on contaminant \\ntype, form and concentration. Follow OSHA 1910.134, ANSI Z88.2 and goo d Industrial Hygiene practice. \\nWork/Hygiene Practices: Wash with soap and water after handling. \\n \\n9 – Physical and Chemical Properties \\nPhysical State:  Liquid packaged as \\naerosol \\nColor: Light green to amber \\nOdor: Mild petroleum odor Flammable Limits: \\n(Solvent Portion)   \\nLEL: 0.6% UEL: 8% \\nRelative Vapor Density: 0.8 – 0.82 @ 60\\uf0b0F Vapor Pressure: 95-115 PSI @ 70\\uf0b0F \\npH: Not Applicable Relative Density:  \\nMelting/Freezing Point: Not established Solubilities: Insoluble in water \\nBoiling Point/Range: 361 - 369\\uf0b0F (183 - \\n187°C) \\nPartition Coefficient; n-\\noctanol/water: \\nNot established \\nFlash Point:   138\\uf0b0F (59°C) Tag \\nClosed Cup (liquid) \\nAutoignition \\nTemperature: \\nNot established \\nParticle Characteristics: Not applicable Decomposition \\nTemperature: \\nNot established \\nFlammability: Flammable Aerosol Kinematic Viscosity: 2.79-2.96 cSt @ 100\\uf0b0F'), Document(metadata={'producer': 'Microsoft® Word for Microsoft 365', 'creator': 'Microsoft® Word for Microsoft 365', 'creationdate': '2025-04-24T23:05:13-04:00', 'title': 'Material Safety Data Sheet (MSDS)', 'author': 'Denese Deeds', 'moddate': '2025-04-24T23:05:13-04:00', 'source': '/Users/I310202/Library/CloudStorage/OneDrive-SAPSE/SR@Work/81.Innovations/98.AI_Developments/33.AI_MSDS/Build_MSDS_SAPKGE/Documents/WD-40.pdf', 'total_pages': 5, 'page': 3, 'page_label': '4'}, page_content='Page 4 of 5 \\nVOC: 24.1% \\nMIR=0.43gO3/gVOC \\nPour Point: -63\\uf0b0C (-81.4\\uf0b0F ) ASTM \\nD-97 \\n \\n10 – Stability and Reactivity \\nReactivity: Not reactive under normal conditions \\nChemical Stability: Stable \\nPossibility of Hazardous Reactions: May react with strong oxidizers generating heat. \\nConditions to Avoid: Avoid heat, sparks, flames, and other sources of ignition. Do not puncture or incinerate \\ncontainers. \\nIncompatible Materials: Strong oxidizing agents. \\nHazardous Decomposition Products: Carbon monoxide and carbon dioxide. \\n \\n11 – Toxicological Information \\nSymptoms of Overexposure: \\nInhalation: High concentrations may cause nasal and respiratory irritation and central nervous system effects \\nsuch as headache, dizziness, and nausea. Intentional abuse may be harmful or fatal. \\nSkin Contact: Prolonged and/or repeated contact may produce mild irritation and defatting with possible \\ndermatitis. \\nEye Contact: Contact may be irritating to eyes. May cause redness and tearing. \\nIngestion: This product has low oral toxicity. Swallowing may cause gastrointestinal irritation,  nausea, \\nvomiting and diarrhea. This product is an aspiration hazard. If swallowed, can enter the lungs and may cause \\nchemical pneumonitis, severe lung damage and death. \\nChronic Effects: None expected. \\nCarcinogen Status: None of the components are listed as a carcinogen or suspect carcinogen by IARC, \\nNTP, ACGIH or OSHA. \\nReproductive Toxicity: None of the components is considered a reproductive hazard. \\n \\nNumerical Measures of Toxicity:  \\nAcute Toxicity Estimates: Oral > 5,000 mg/kg; Dermal >2,000 mg/kg based on an assessment of the \\ningredients. This product is not classified as toxic by established criteria. It is an aspiration hazard.  \\n \\n12 – Ecological Information \\nEcotoxicity: No specific aquatic toxicity data is currently available; however components of this product are \\nnot expected to be harmful to aquatic organisms \\nPersistence and Degradability: Components are readily biodegradable. \\nBioaccumulative Potential: Bioaccumulation is not expected based on an assessment of the ingredients.  \\nMobility in Soil: No data available \\nOther Adverse Effects: None known. \\n \\n13 - Disposal Considerations \\nIf this product becomes a waste, it would be expected to meet the criteria of a RCRA ignitable hazardous \\nwaste (D001). However, it is the responsibility of the generator to determine at the time of disposal the proper \\nclassification and method of disposal. Do not puncture or incinerate containers, even empty. Dispose in \\naccordance with federal, state, and local regulations. \\n \\n14 – Transportation Information \\nDOT Surface Shipping Description: UN1950, Aerosols, 2.1 Ltd. Qty    \\n(Note: Shipping Papers are not required for Limited Quantities unless transported by air or vessel – each \\npackage must be marked with the Limited Quantity Mark) \\nIMDG Shipping Description: UN1950, Aerosols, 2.1, LTD QTY \\nICAO Shipping Description: UN1950, Aerosols, flammable, 2.1  \\n \\nNOTE: WD-40 Company does not test aerosol cans to assure that they meet the pressure and other \\nrequirements for transport by air. We do not recommend that our aerosol products be transported by air.'), Document(metadata={'producer': 'Microsoft® Word for Microsoft 365', 'creator': 'Microsoft® Word for Microsoft 365', 'creationdate': '2025-04-24T23:05:13-04:00', 'title': 'Material Safety Data Sheet (MSDS)', 'author': 'Denese Deeds', 'moddate': '2025-04-24T23:05:13-04:00', 'source': '/Users/I310202/Library/CloudStorage/OneDrive-SAPSE/SR@Work/81.Innovations/98.AI_Developments/33.AI_MSDS/Build_MSDS_SAPKGE/Documents/WD-40.pdf', 'total_pages': 5, 'page': 4, 'page_label': '5'}, page_content='Page 5 of 5 \\n \\n15 – Regulatory Information \\nU.S. Federal Regulations: \\nCERCLA 103 Reportable Quantity: This product is not subject to CERCLA reporting requirements, however, \\noil spills are reportable to the National Response Center under the Clean Water Act and many states have \\nmore stringent release reporting requirements. Report spills required under federal, state, and local \\nregulations. \\nSARA TITLE III: \\nHazard Category for Section 311/312: Refer to Section 2 for the OSHA Hazard Classification. \\nSection 313 Toxic Chemicals: This product contains the following chemicals subject to SARA Title III \\nSection 313 Reporting requirements: None \\nSection 302 Extremely Hazardous Substances (TPQ): None \\nEPA Toxic Substances Control Act (TSCA) Status: All the components of this product are listed on the \\nTSCA inventory. \\nCalifornia Safe Drinking Water and Toxic Enforcement Act (Proposition 65):  This product does not \\nrequire a California Proposition 65 warning. \\nVOC Regulations: This product complies with the consumer product VOC limits of CARB, the US EPA and \\nstates adopting the OTC VOC rules. \\nCanadian Environmental Protection Act: All the ingredients are listed on the Canadian Domestic \\nSubstances List or exempt from notification. \\n \\n16 – Other Information \\nHMIS Hazard Rating:  \\nHealth – 1 (slight hazard), Fire Hazard – 4 (severe hazard), Physical Hazard – 0 (minimal hazard) \\n \\nRevision Date: November 13, 2024    Supersedes: May 16, 2024  \\n \\nRevision Summary: Updates to conform to HCS 2024 – changes to sections 2, 3 and 9. \\n \\nPrepared by: IHSC, LLC. Milford, CT, USA \\n \\nReviewed by: I. Kowalski  Regulatory Affairs Dept. \\n \\n \\n \\n \\n4012200/No.0084708')]\n",
      "\"\"\"\n",
      "Output:\n",
      "(Subject, Predicate, Object)\n",
      "... (repeat for all extracted triples)\n",
      "\n"
     ]
    }
   ],
   "source": [
    "prompt_gen = cl_msds_Ontology_PromptGenerator(\"msds_ontology.ttl\")\n",
    "prompt = prompt_gen.generate_prompt(chunks)\n",
    "print(prompt)"
   ]
  },
  {
   "cell_type": "markdown",
   "id": "3dda26c5",
   "metadata": {},
   "source": [
    "### 4. Initialize the Orchetration Model `anthropic--claude-4-sonnet` model "
   ]
  },
  {
   "cell_type": "code",
   "execution_count": 13,
   "id": "22b417a5",
   "metadata": {},
   "outputs": [
    {
     "ename": "_IncompleteInputError",
     "evalue": "incomplete input (573570854.py, line 9)",
     "output_type": "error",
     "traceback": [
      "  \u001b[36mCell\u001b[39m\u001b[36m \u001b[39m\u001b[32mIn[13]\u001b[39m\u001b[32m, line 9\u001b[39m\n\u001b[31m    \u001b[39m\u001b[31montology=sds_ontology\u001b[39m\n                         ^\n\u001b[31m_IncompleteInputError\u001b[39m\u001b[31m:\u001b[39m incomplete input\n"
     ]
    }
   ],
   "source": [
    "from langchain.indexes.graph import GraphIndexCreator\n",
    "from llm_client import CL_Orchestration_Service\n",
    "\n",
    "obj_orch_client = CL_Orchestration_Service(aic_config, orch_model_params)\n",
    "chat_llm = obj_orch_client.get_orch_llm_client()\n",
    "graph_index_creator = GraphIndexCreator(\n",
    "    llm=chat_llm,\n",
    "    prompt=prompt,\n",
    "    ontology=sds_ontology\n",
    ")\n"
   ]
  },
  {
   "cell_type": "code",
   "execution_count": 9,
   "id": "94329d54",
   "metadata": {},
   "outputs": [
    {
     "ename": "KeyboardInterrupt",
     "evalue": "",
     "output_type": "error",
     "traceback": [
      "\u001b[31m---------------------------------------------------------------------------\u001b[39m",
      "\u001b[31mKeyboardInterrupt\u001b[39m                         Traceback (most recent call last)",
      "\u001b[36mCell\u001b[39m\u001b[36m \u001b[39m\u001b[32mIn[9]\u001b[39m\u001b[32m, line 13\u001b[39m\n\u001b[32m     11\u001b[39m \u001b[38;5;66;03m# Run orchestration with the prompt and model parameters\u001b[39;00m\n\u001b[32m     12\u001b[39m \u001b[38;5;28;01mtry\u001b[39;00m:\n\u001b[32m---> \u001b[39m\u001b[32m13\u001b[39m     result = \u001b[43mobj_orch_client\u001b[49m\u001b[43m.\u001b[49m\u001b[43mrun_orchestration\u001b[49m\u001b[43m(\u001b[49m\u001b[43mprompt\u001b[49m\u001b[43m,\u001b[49m\u001b[43m \u001b[49m\u001b[43merror_context\u001b[49m\u001b[43m=\u001b[49m\u001b[33;43m\"\u001b[39;49m\u001b[33;43mMSDS_Analysis\u001b[39;49m\u001b[33;43m\"\u001b[39;49m\u001b[43m)\u001b[49m\n\u001b[32m     14\u001b[39m     \u001b[38;5;28mprint\u001b[39m(\u001b[33m\"\u001b[39m\u001b[33mOrchestration Result:\u001b[39m\u001b[33m\"\u001b[39m)\n\u001b[32m     15\u001b[39m     \u001b[38;5;28mprint\u001b[39m(result)\n",
      "\u001b[36mFile \u001b[39m\u001b[32m~/Library/CloudStorage/OneDrive-SAPSE/SR@Work/81.Innovations/98.AI_Developments/33.AI_MSDS/Build_MSDS_SAPKGE/scritps/llm_client.py:111\u001b[39m, in \u001b[36mCL_Orchestration_Service.run_orchestration\u001b[39m\u001b[34m(self, prompt, error_context)\u001b[39m\n\u001b[32m    108\u001b[39m \u001b[38;5;28;01melse\u001b[39;00m:\n\u001b[32m    109\u001b[39m     user_message = \u001b[38;5;28mstr\u001b[39m(prompt)\n\u001b[32m--> \u001b[39m\u001b[32m111\u001b[39m response = \u001b[43morch_client\u001b[49m\u001b[43m.\u001b[49m\u001b[43mrun\u001b[49m\u001b[43m(\u001b[49m\n\u001b[32m    112\u001b[39m \u001b[43m    \u001b[49m\u001b[43mconfig\u001b[49m\u001b[43m=\u001b[49m\u001b[43mconfig\u001b[49m\u001b[43m,\u001b[49m\n\u001b[32m    113\u001b[39m \u001b[43m    \u001b[49m\u001b[43mtemplate_values\u001b[49m\u001b[43m=\u001b[49m\u001b[43m[\u001b[49m\u001b[43mTemplateValue\u001b[49m\u001b[43m(\u001b[49m\u001b[33;43m\"\u001b[39;49m\u001b[33;43mextraction_prompt\u001b[39;49m\u001b[33;43m\"\u001b[39;49m\u001b[43m,\u001b[49m\u001b[43m \u001b[49m\u001b[43muser_message\u001b[49m\u001b[43m)\u001b[49m\u001b[43m]\u001b[49m\n\u001b[32m    114\u001b[39m \u001b[43m\u001b[49m\u001b[43m)\u001b[49m\n\u001b[32m    115\u001b[39m \u001b[38;5;66;03m# Extract and return the result\u001b[39;00m\n\u001b[32m    116\u001b[39m \u001b[38;5;28;01mtry\u001b[39;00m:\n",
      "\u001b[36mFile \u001b[39m\u001b[32m~/Library/CloudStorage/OneDrive-SAPSE/SR@Work/81.Innovations/98.AI_Developments/33.AI_MSDS/.venv/lib/python3.13/site-packages/gen_ai_hub/orchestration/service.py:344\u001b[39m, in \u001b[36mOrchestrationService.run\u001b[39m\u001b[34m(self, config, template_values, history)\u001b[39m\n\u001b[32m    327\u001b[39m \u001b[38;5;28;01mdef\u001b[39;00m\u001b[38;5;250m \u001b[39m\u001b[34mrun\u001b[39m(\n\u001b[32m    328\u001b[39m     \u001b[38;5;28mself\u001b[39m,\n\u001b[32m    329\u001b[39m     config: Optional[OrchestrationConfig] = \u001b[38;5;28;01mNone\u001b[39;00m,\n\u001b[32m    330\u001b[39m     template_values: Optional[List[TemplateValue]] = \u001b[38;5;28;01mNone\u001b[39;00m,\n\u001b[32m    331\u001b[39m     history: Optional[List[Message]] = \u001b[38;5;28;01mNone\u001b[39;00m,\n\u001b[32m    332\u001b[39m ) -> OrchestrationResponse:\n\u001b[32m    333\u001b[39m \u001b[38;5;250m    \u001b[39m\u001b[33;03m\"\"\"\u001b[39;00m\n\u001b[32m    334\u001b[39m \u001b[33;03m    Executes an orchestration request synchronously (non-streaming).\u001b[39;00m\n\u001b[32m    335\u001b[39m \n\u001b[32m   (...)\u001b[39m\u001b[32m    342\u001b[39m \u001b[33;03m        An OrchestrationResponse object.\u001b[39;00m\n\u001b[32m    343\u001b[39m \u001b[33;03m    \"\"\"\u001b[39;00m\n\u001b[32m--> \u001b[39m\u001b[32m344\u001b[39m     \u001b[38;5;28;01mreturn\u001b[39;00m \u001b[38;5;28;43mself\u001b[39;49m\u001b[43m.\u001b[49m\u001b[43m_execute_request\u001b[49m\u001b[43m(\u001b[49m\n\u001b[32m    345\u001b[39m \u001b[43m        \u001b[49m\u001b[43mconfig\u001b[49m\u001b[43m=\u001b[49m\u001b[43mconfig\u001b[49m\u001b[43m \u001b[49m\u001b[38;5;129;43;01mor\u001b[39;49;00m\u001b[43m \u001b[49m\u001b[38;5;28;43mself\u001b[39;49m\u001b[43m.\u001b[49m\u001b[43mconfig\u001b[49m\u001b[43m,\u001b[49m\n\u001b[32m    346\u001b[39m \u001b[43m        \u001b[49m\u001b[43mtemplate_values\u001b[49m\u001b[43m=\u001b[49m\u001b[43mtemplate_values\u001b[49m\u001b[43m,\u001b[49m\n\u001b[32m    347\u001b[39m \u001b[43m        \u001b[49m\u001b[43mhistory\u001b[49m\u001b[43m=\u001b[49m\u001b[43mhistory\u001b[49m\u001b[43m,\u001b[49m\n\u001b[32m    348\u001b[39m \u001b[43m        \u001b[49m\u001b[43mstream\u001b[49m\u001b[43m=\u001b[49m\u001b[38;5;28;43;01mFalse\u001b[39;49;00m\u001b[43m,\u001b[49m\n\u001b[32m    349\u001b[39m \u001b[43m    \u001b[49m\u001b[43m)\u001b[49m\n",
      "\u001b[36mFile \u001b[39m\u001b[32m~/Library/CloudStorage/OneDrive-SAPSE/SR@Work/81.Innovations/98.AI_Developments/33.AI_MSDS/.venv/lib/python3.13/site-packages/gen_ai_hub/orchestration/service.py:244\u001b[39m, in \u001b[36mOrchestrationService._execute_request\u001b[39m\u001b[34m(self, config, template_values, history, stream, stream_options)\u001b[39m\n\u001b[32m    236\u001b[39m     response_cm = \u001b[38;5;28mself\u001b[39m.client.stream(\n\u001b[32m    237\u001b[39m         \u001b[33m\"\u001b[39m\u001b[33mPOST\u001b[39m\u001b[33m\"\u001b[39m,\n\u001b[32m    238\u001b[39m         \u001b[38;5;28mself\u001b[39m.api_url + COMPLETION_SUFFIX,\n\u001b[32m    239\u001b[39m         headers=\u001b[38;5;28mself\u001b[39m.proxy_client.request_header,\n\u001b[32m    240\u001b[39m         json=request_obj.to_dict()\n\u001b[32m    241\u001b[39m     )\n\u001b[32m    242\u001b[39m     \u001b[38;5;28;01mreturn\u001b[39;00m SSEClient(response_cm, prefix=\u001b[33m\"\u001b[39m\u001b[33mdata: \u001b[39m\u001b[33m\"\u001b[39m, final_message=\u001b[33m\"\u001b[39m\u001b[33m[DONE]\u001b[39m\u001b[33m\"\u001b[39m)\n\u001b[32m--> \u001b[39m\u001b[32m244\u001b[39m response = \u001b[38;5;28;43mself\u001b[39;49m\u001b[43m.\u001b[49m\u001b[43mclient\u001b[49m\u001b[43m.\u001b[49m\u001b[43mpost\u001b[49m\u001b[43m(\u001b[49m\n\u001b[32m    245\u001b[39m \u001b[43m    \u001b[49m\u001b[38;5;28;43mself\u001b[39;49m\u001b[43m.\u001b[49m\u001b[43mapi_url\u001b[49m\u001b[43m \u001b[49m\u001b[43m+\u001b[49m\u001b[43m \u001b[49m\u001b[43mCOMPLETION_SUFFIX\u001b[49m\u001b[43m,\u001b[49m\n\u001b[32m    246\u001b[39m \u001b[43m    \u001b[49m\u001b[43mheaders\u001b[49m\u001b[43m=\u001b[49m\u001b[38;5;28;43mself\u001b[39;49m\u001b[43m.\u001b[49m\u001b[43mproxy_client\u001b[49m\u001b[43m.\u001b[49m\u001b[43mrequest_header\u001b[49m\u001b[43m,\u001b[49m\n\u001b[32m    247\u001b[39m \u001b[43m    \u001b[49m\u001b[43mjson\u001b[49m\u001b[43m=\u001b[49m\u001b[43mrequest_obj\u001b[49m\u001b[43m.\u001b[49m\u001b[43mto_dict\u001b[49m\u001b[43m(\u001b[49m\u001b[43m)\u001b[49m\n\u001b[32m    248\u001b[39m \u001b[43m\u001b[49m\u001b[43m)\u001b[49m\n\u001b[32m    249\u001b[39m \u001b[38;5;28;01mtry\u001b[39;00m:\n\u001b[32m    250\u001b[39m     response.raise_for_status()\n",
      "\u001b[36mFile \u001b[39m\u001b[32m~/Library/CloudStorage/OneDrive-SAPSE/SR@Work/81.Innovations/98.AI_Developments/33.AI_MSDS/.venv/lib/python3.13/site-packages/httpx/_client.py:1144\u001b[39m, in \u001b[36mClient.post\u001b[39m\u001b[34m(self, url, content, data, files, json, params, headers, cookies, auth, follow_redirects, timeout, extensions)\u001b[39m\n\u001b[32m   1123\u001b[39m \u001b[38;5;28;01mdef\u001b[39;00m\u001b[38;5;250m \u001b[39m\u001b[34mpost\u001b[39m(\n\u001b[32m   1124\u001b[39m     \u001b[38;5;28mself\u001b[39m,\n\u001b[32m   1125\u001b[39m     url: URL | \u001b[38;5;28mstr\u001b[39m,\n\u001b[32m   (...)\u001b[39m\u001b[32m   1137\u001b[39m     extensions: RequestExtensions | \u001b[38;5;28;01mNone\u001b[39;00m = \u001b[38;5;28;01mNone\u001b[39;00m,\n\u001b[32m   1138\u001b[39m ) -> Response:\n\u001b[32m   1139\u001b[39m \u001b[38;5;250m    \u001b[39m\u001b[33;03m\"\"\"\u001b[39;00m\n\u001b[32m   1140\u001b[39m \u001b[33;03m    Send a `POST` request.\u001b[39;00m\n\u001b[32m   1141\u001b[39m \n\u001b[32m   1142\u001b[39m \u001b[33;03m    **Parameters**: See `httpx.request`.\u001b[39;00m\n\u001b[32m   1143\u001b[39m \u001b[33;03m    \"\"\"\u001b[39;00m\n\u001b[32m-> \u001b[39m\u001b[32m1144\u001b[39m     \u001b[38;5;28;01mreturn\u001b[39;00m \u001b[38;5;28;43mself\u001b[39;49m\u001b[43m.\u001b[49m\u001b[43mrequest\u001b[49m\u001b[43m(\u001b[49m\n\u001b[32m   1145\u001b[39m \u001b[43m        \u001b[49m\u001b[33;43m\"\u001b[39;49m\u001b[33;43mPOST\u001b[39;49m\u001b[33;43m\"\u001b[39;49m\u001b[43m,\u001b[49m\n\u001b[32m   1146\u001b[39m \u001b[43m        \u001b[49m\u001b[43murl\u001b[49m\u001b[43m,\u001b[49m\n\u001b[32m   1147\u001b[39m \u001b[43m        \u001b[49m\u001b[43mcontent\u001b[49m\u001b[43m=\u001b[49m\u001b[43mcontent\u001b[49m\u001b[43m,\u001b[49m\n\u001b[32m   1148\u001b[39m \u001b[43m        \u001b[49m\u001b[43mdata\u001b[49m\u001b[43m=\u001b[49m\u001b[43mdata\u001b[49m\u001b[43m,\u001b[49m\n\u001b[32m   1149\u001b[39m \u001b[43m        \u001b[49m\u001b[43mfiles\u001b[49m\u001b[43m=\u001b[49m\u001b[43mfiles\u001b[49m\u001b[43m,\u001b[49m\n\u001b[32m   1150\u001b[39m \u001b[43m        \u001b[49m\u001b[43mjson\u001b[49m\u001b[43m=\u001b[49m\u001b[43mjson\u001b[49m\u001b[43m,\u001b[49m\n\u001b[32m   1151\u001b[39m \u001b[43m        \u001b[49m\u001b[43mparams\u001b[49m\u001b[43m=\u001b[49m\u001b[43mparams\u001b[49m\u001b[43m,\u001b[49m\n\u001b[32m   1152\u001b[39m \u001b[43m        \u001b[49m\u001b[43mheaders\u001b[49m\u001b[43m=\u001b[49m\u001b[43mheaders\u001b[49m\u001b[43m,\u001b[49m\n\u001b[32m   1153\u001b[39m \u001b[43m        \u001b[49m\u001b[43mcookies\u001b[49m\u001b[43m=\u001b[49m\u001b[43mcookies\u001b[49m\u001b[43m,\u001b[49m\n\u001b[32m   1154\u001b[39m \u001b[43m        \u001b[49m\u001b[43mauth\u001b[49m\u001b[43m=\u001b[49m\u001b[43mauth\u001b[49m\u001b[43m,\u001b[49m\n\u001b[32m   1155\u001b[39m \u001b[43m        \u001b[49m\u001b[43mfollow_redirects\u001b[49m\u001b[43m=\u001b[49m\u001b[43mfollow_redirects\u001b[49m\u001b[43m,\u001b[49m\n\u001b[32m   1156\u001b[39m \u001b[43m        \u001b[49m\u001b[43mtimeout\u001b[49m\u001b[43m=\u001b[49m\u001b[43mtimeout\u001b[49m\u001b[43m,\u001b[49m\n\u001b[32m   1157\u001b[39m \u001b[43m        \u001b[49m\u001b[43mextensions\u001b[49m\u001b[43m=\u001b[49m\u001b[43mextensions\u001b[49m\u001b[43m,\u001b[49m\n\u001b[32m   1158\u001b[39m \u001b[43m    \u001b[49m\u001b[43m)\u001b[49m\n",
      "\u001b[36mFile \u001b[39m\u001b[32m~/Library/CloudStorage/OneDrive-SAPSE/SR@Work/81.Innovations/98.AI_Developments/33.AI_MSDS/.venv/lib/python3.13/site-packages/httpx/_client.py:825\u001b[39m, in \u001b[36mClient.request\u001b[39m\u001b[34m(self, method, url, content, data, files, json, params, headers, cookies, auth, follow_redirects, timeout, extensions)\u001b[39m\n\u001b[32m    810\u001b[39m     warnings.warn(message, \u001b[38;5;167;01mDeprecationWarning\u001b[39;00m, stacklevel=\u001b[32m2\u001b[39m)\n\u001b[32m    812\u001b[39m request = \u001b[38;5;28mself\u001b[39m.build_request(\n\u001b[32m    813\u001b[39m     method=method,\n\u001b[32m    814\u001b[39m     url=url,\n\u001b[32m   (...)\u001b[39m\u001b[32m    823\u001b[39m     extensions=extensions,\n\u001b[32m    824\u001b[39m )\n\u001b[32m--> \u001b[39m\u001b[32m825\u001b[39m \u001b[38;5;28;01mreturn\u001b[39;00m \u001b[38;5;28;43mself\u001b[39;49m\u001b[43m.\u001b[49m\u001b[43msend\u001b[49m\u001b[43m(\u001b[49m\u001b[43mrequest\u001b[49m\u001b[43m,\u001b[49m\u001b[43m \u001b[49m\u001b[43mauth\u001b[49m\u001b[43m=\u001b[49m\u001b[43mauth\u001b[49m\u001b[43m,\u001b[49m\u001b[43m \u001b[49m\u001b[43mfollow_redirects\u001b[49m\u001b[43m=\u001b[49m\u001b[43mfollow_redirects\u001b[49m\u001b[43m)\u001b[49m\n",
      "\u001b[36mFile \u001b[39m\u001b[32m~/Library/CloudStorage/OneDrive-SAPSE/SR@Work/81.Innovations/98.AI_Developments/33.AI_MSDS/.venv/lib/python3.13/site-packages/httpx/_client.py:914\u001b[39m, in \u001b[36mClient.send\u001b[39m\u001b[34m(self, request, stream, auth, follow_redirects)\u001b[39m\n\u001b[32m    910\u001b[39m \u001b[38;5;28mself\u001b[39m._set_timeout(request)\n\u001b[32m    912\u001b[39m auth = \u001b[38;5;28mself\u001b[39m._build_request_auth(request, auth)\n\u001b[32m--> \u001b[39m\u001b[32m914\u001b[39m response = \u001b[38;5;28;43mself\u001b[39;49m\u001b[43m.\u001b[49m\u001b[43m_send_handling_auth\u001b[49m\u001b[43m(\u001b[49m\n\u001b[32m    915\u001b[39m \u001b[43m    \u001b[49m\u001b[43mrequest\u001b[49m\u001b[43m,\u001b[49m\n\u001b[32m    916\u001b[39m \u001b[43m    \u001b[49m\u001b[43mauth\u001b[49m\u001b[43m=\u001b[49m\u001b[43mauth\u001b[49m\u001b[43m,\u001b[49m\n\u001b[32m    917\u001b[39m \u001b[43m    \u001b[49m\u001b[43mfollow_redirects\u001b[49m\u001b[43m=\u001b[49m\u001b[43mfollow_redirects\u001b[49m\u001b[43m,\u001b[49m\n\u001b[32m    918\u001b[39m \u001b[43m    \u001b[49m\u001b[43mhistory\u001b[49m\u001b[43m=\u001b[49m\u001b[43m[\u001b[49m\u001b[43m]\u001b[49m\u001b[43m,\u001b[49m\n\u001b[32m    919\u001b[39m \u001b[43m\u001b[49m\u001b[43m)\u001b[49m\n\u001b[32m    920\u001b[39m \u001b[38;5;28;01mtry\u001b[39;00m:\n\u001b[32m    921\u001b[39m     \u001b[38;5;28;01mif\u001b[39;00m \u001b[38;5;129;01mnot\u001b[39;00m stream:\n",
      "\u001b[36mFile \u001b[39m\u001b[32m~/Library/CloudStorage/OneDrive-SAPSE/SR@Work/81.Innovations/98.AI_Developments/33.AI_MSDS/.venv/lib/python3.13/site-packages/httpx/_client.py:942\u001b[39m, in \u001b[36mClient._send_handling_auth\u001b[39m\u001b[34m(self, request, auth, follow_redirects, history)\u001b[39m\n\u001b[32m    939\u001b[39m request = \u001b[38;5;28mnext\u001b[39m(auth_flow)\n\u001b[32m    941\u001b[39m \u001b[38;5;28;01mwhile\u001b[39;00m \u001b[38;5;28;01mTrue\u001b[39;00m:\n\u001b[32m--> \u001b[39m\u001b[32m942\u001b[39m     response = \u001b[38;5;28;43mself\u001b[39;49m\u001b[43m.\u001b[49m\u001b[43m_send_handling_redirects\u001b[49m\u001b[43m(\u001b[49m\n\u001b[32m    943\u001b[39m \u001b[43m        \u001b[49m\u001b[43mrequest\u001b[49m\u001b[43m,\u001b[49m\n\u001b[32m    944\u001b[39m \u001b[43m        \u001b[49m\u001b[43mfollow_redirects\u001b[49m\u001b[43m=\u001b[49m\u001b[43mfollow_redirects\u001b[49m\u001b[43m,\u001b[49m\n\u001b[32m    945\u001b[39m \u001b[43m        \u001b[49m\u001b[43mhistory\u001b[49m\u001b[43m=\u001b[49m\u001b[43mhistory\u001b[49m\u001b[43m,\u001b[49m\n\u001b[32m    946\u001b[39m \u001b[43m    \u001b[49m\u001b[43m)\u001b[49m\n\u001b[32m    947\u001b[39m     \u001b[38;5;28;01mtry\u001b[39;00m:\n\u001b[32m    948\u001b[39m         \u001b[38;5;28;01mtry\u001b[39;00m:\n",
      "\u001b[36mFile \u001b[39m\u001b[32m~/Library/CloudStorage/OneDrive-SAPSE/SR@Work/81.Innovations/98.AI_Developments/33.AI_MSDS/.venv/lib/python3.13/site-packages/httpx/_client.py:979\u001b[39m, in \u001b[36mClient._send_handling_redirects\u001b[39m\u001b[34m(self, request, follow_redirects, history)\u001b[39m\n\u001b[32m    976\u001b[39m \u001b[38;5;28;01mfor\u001b[39;00m hook \u001b[38;5;129;01min\u001b[39;00m \u001b[38;5;28mself\u001b[39m._event_hooks[\u001b[33m\"\u001b[39m\u001b[33mrequest\u001b[39m\u001b[33m\"\u001b[39m]:\n\u001b[32m    977\u001b[39m     hook(request)\n\u001b[32m--> \u001b[39m\u001b[32m979\u001b[39m response = \u001b[38;5;28;43mself\u001b[39;49m\u001b[43m.\u001b[49m\u001b[43m_send_single_request\u001b[49m\u001b[43m(\u001b[49m\u001b[43mrequest\u001b[49m\u001b[43m)\u001b[49m\n\u001b[32m    980\u001b[39m \u001b[38;5;28;01mtry\u001b[39;00m:\n\u001b[32m    981\u001b[39m     \u001b[38;5;28;01mfor\u001b[39;00m hook \u001b[38;5;129;01min\u001b[39;00m \u001b[38;5;28mself\u001b[39m._event_hooks[\u001b[33m\"\u001b[39m\u001b[33mresponse\u001b[39m\u001b[33m\"\u001b[39m]:\n",
      "\u001b[36mFile \u001b[39m\u001b[32m~/Library/CloudStorage/OneDrive-SAPSE/SR@Work/81.Innovations/98.AI_Developments/33.AI_MSDS/.venv/lib/python3.13/site-packages/httpx/_client.py:1014\u001b[39m, in \u001b[36mClient._send_single_request\u001b[39m\u001b[34m(self, request)\u001b[39m\n\u001b[32m   1009\u001b[39m     \u001b[38;5;28;01mraise\u001b[39;00m \u001b[38;5;167;01mRuntimeError\u001b[39;00m(\n\u001b[32m   1010\u001b[39m         \u001b[33m\"\u001b[39m\u001b[33mAttempted to send an async request with a sync Client instance.\u001b[39m\u001b[33m\"\u001b[39m\n\u001b[32m   1011\u001b[39m     )\n\u001b[32m   1013\u001b[39m \u001b[38;5;28;01mwith\u001b[39;00m request_context(request=request):\n\u001b[32m-> \u001b[39m\u001b[32m1014\u001b[39m     response = \u001b[43mtransport\u001b[49m\u001b[43m.\u001b[49m\u001b[43mhandle_request\u001b[49m\u001b[43m(\u001b[49m\u001b[43mrequest\u001b[49m\u001b[43m)\u001b[49m\n\u001b[32m   1016\u001b[39m \u001b[38;5;28;01massert\u001b[39;00m \u001b[38;5;28misinstance\u001b[39m(response.stream, SyncByteStream)\n\u001b[32m   1018\u001b[39m response.request = request\n",
      "\u001b[36mFile \u001b[39m\u001b[32m~/Library/CloudStorage/OneDrive-SAPSE/SR@Work/81.Innovations/98.AI_Developments/33.AI_MSDS/.venv/lib/python3.13/site-packages/httpx/_transports/default.py:250\u001b[39m, in \u001b[36mHTTPTransport.handle_request\u001b[39m\u001b[34m(self, request)\u001b[39m\n\u001b[32m    237\u001b[39m req = httpcore.Request(\n\u001b[32m    238\u001b[39m     method=request.method,\n\u001b[32m    239\u001b[39m     url=httpcore.URL(\n\u001b[32m   (...)\u001b[39m\u001b[32m    247\u001b[39m     extensions=request.extensions,\n\u001b[32m    248\u001b[39m )\n\u001b[32m    249\u001b[39m \u001b[38;5;28;01mwith\u001b[39;00m map_httpcore_exceptions():\n\u001b[32m--> \u001b[39m\u001b[32m250\u001b[39m     resp = \u001b[38;5;28;43mself\u001b[39;49m\u001b[43m.\u001b[49m\u001b[43m_pool\u001b[49m\u001b[43m.\u001b[49m\u001b[43mhandle_request\u001b[49m\u001b[43m(\u001b[49m\u001b[43mreq\u001b[49m\u001b[43m)\u001b[49m\n\u001b[32m    252\u001b[39m \u001b[38;5;28;01massert\u001b[39;00m \u001b[38;5;28misinstance\u001b[39m(resp.stream, typing.Iterable)\n\u001b[32m    254\u001b[39m \u001b[38;5;28;01mreturn\u001b[39;00m Response(\n\u001b[32m    255\u001b[39m     status_code=resp.status,\n\u001b[32m    256\u001b[39m     headers=resp.headers,\n\u001b[32m    257\u001b[39m     stream=ResponseStream(resp.stream),\n\u001b[32m    258\u001b[39m     extensions=resp.extensions,\n\u001b[32m    259\u001b[39m )\n",
      "\u001b[36mFile \u001b[39m\u001b[32m~/Library/CloudStorage/OneDrive-SAPSE/SR@Work/81.Innovations/98.AI_Developments/33.AI_MSDS/.venv/lib/python3.13/site-packages/httpcore/_sync/connection_pool.py:256\u001b[39m, in \u001b[36mConnectionPool.handle_request\u001b[39m\u001b[34m(self, request)\u001b[39m\n\u001b[32m    253\u001b[39m         closing = \u001b[38;5;28mself\u001b[39m._assign_requests_to_connections()\n\u001b[32m    255\u001b[39m     \u001b[38;5;28mself\u001b[39m._close_connections(closing)\n\u001b[32m--> \u001b[39m\u001b[32m256\u001b[39m     \u001b[38;5;28;01mraise\u001b[39;00m exc \u001b[38;5;28;01mfrom\u001b[39;00m\u001b[38;5;250m \u001b[39m\u001b[38;5;28;01mNone\u001b[39;00m\n\u001b[32m    258\u001b[39m \u001b[38;5;66;03m# Return the response. Note that in this case we still have to manage\u001b[39;00m\n\u001b[32m    259\u001b[39m \u001b[38;5;66;03m# the point at which the response is closed.\u001b[39;00m\n\u001b[32m    260\u001b[39m \u001b[38;5;28;01massert\u001b[39;00m \u001b[38;5;28misinstance\u001b[39m(response.stream, typing.Iterable)\n",
      "\u001b[36mFile \u001b[39m\u001b[32m~/Library/CloudStorage/OneDrive-SAPSE/SR@Work/81.Innovations/98.AI_Developments/33.AI_MSDS/.venv/lib/python3.13/site-packages/httpcore/_sync/connection_pool.py:236\u001b[39m, in \u001b[36mConnectionPool.handle_request\u001b[39m\u001b[34m(self, request)\u001b[39m\n\u001b[32m    232\u001b[39m connection = pool_request.wait_for_connection(timeout=timeout)\n\u001b[32m    234\u001b[39m \u001b[38;5;28;01mtry\u001b[39;00m:\n\u001b[32m    235\u001b[39m     \u001b[38;5;66;03m# Send the request on the assigned connection.\u001b[39;00m\n\u001b[32m--> \u001b[39m\u001b[32m236\u001b[39m     response = \u001b[43mconnection\u001b[49m\u001b[43m.\u001b[49m\u001b[43mhandle_request\u001b[49m\u001b[43m(\u001b[49m\n\u001b[32m    237\u001b[39m \u001b[43m        \u001b[49m\u001b[43mpool_request\u001b[49m\u001b[43m.\u001b[49m\u001b[43mrequest\u001b[49m\n\u001b[32m    238\u001b[39m \u001b[43m    \u001b[49m\u001b[43m)\u001b[49m\n\u001b[32m    239\u001b[39m \u001b[38;5;28;01mexcept\u001b[39;00m ConnectionNotAvailable:\n\u001b[32m    240\u001b[39m     \u001b[38;5;66;03m# In some cases a connection may initially be available to\u001b[39;00m\n\u001b[32m    241\u001b[39m     \u001b[38;5;66;03m# handle a request, but then become unavailable.\u001b[39;00m\n\u001b[32m    242\u001b[39m     \u001b[38;5;66;03m#\u001b[39;00m\n\u001b[32m    243\u001b[39m     \u001b[38;5;66;03m# In this case we clear the connection and try again.\u001b[39;00m\n\u001b[32m    244\u001b[39m     pool_request.clear_connection()\n",
      "\u001b[36mFile \u001b[39m\u001b[32m~/Library/CloudStorage/OneDrive-SAPSE/SR@Work/81.Innovations/98.AI_Developments/33.AI_MSDS/.venv/lib/python3.13/site-packages/httpcore/_sync/connection.py:103\u001b[39m, in \u001b[36mHTTPConnection.handle_request\u001b[39m\u001b[34m(self, request)\u001b[39m\n\u001b[32m    100\u001b[39m     \u001b[38;5;28mself\u001b[39m._connect_failed = \u001b[38;5;28;01mTrue\u001b[39;00m\n\u001b[32m    101\u001b[39m     \u001b[38;5;28;01mraise\u001b[39;00m exc\n\u001b[32m--> \u001b[39m\u001b[32m103\u001b[39m \u001b[38;5;28;01mreturn\u001b[39;00m \u001b[38;5;28;43mself\u001b[39;49m\u001b[43m.\u001b[49m\u001b[43m_connection\u001b[49m\u001b[43m.\u001b[49m\u001b[43mhandle_request\u001b[49m\u001b[43m(\u001b[49m\u001b[43mrequest\u001b[49m\u001b[43m)\u001b[49m\n",
      "\u001b[36mFile \u001b[39m\u001b[32m~/Library/CloudStorage/OneDrive-SAPSE/SR@Work/81.Innovations/98.AI_Developments/33.AI_MSDS/.venv/lib/python3.13/site-packages/httpcore/_sync/http11.py:136\u001b[39m, in \u001b[36mHTTP11Connection.handle_request\u001b[39m\u001b[34m(self, request)\u001b[39m\n\u001b[32m    134\u001b[39m     \u001b[38;5;28;01mwith\u001b[39;00m Trace(\u001b[33m\"\u001b[39m\u001b[33mresponse_closed\u001b[39m\u001b[33m\"\u001b[39m, logger, request) \u001b[38;5;28;01mas\u001b[39;00m trace:\n\u001b[32m    135\u001b[39m         \u001b[38;5;28mself\u001b[39m._response_closed()\n\u001b[32m--> \u001b[39m\u001b[32m136\u001b[39m \u001b[38;5;28;01mraise\u001b[39;00m exc\n",
      "\u001b[36mFile \u001b[39m\u001b[32m~/Library/CloudStorage/OneDrive-SAPSE/SR@Work/81.Innovations/98.AI_Developments/33.AI_MSDS/.venv/lib/python3.13/site-packages/httpcore/_sync/http11.py:106\u001b[39m, in \u001b[36mHTTP11Connection.handle_request\u001b[39m\u001b[34m(self, request)\u001b[39m\n\u001b[32m     95\u001b[39m     \u001b[38;5;28;01mpass\u001b[39;00m\n\u001b[32m     97\u001b[39m \u001b[38;5;28;01mwith\u001b[39;00m Trace(\n\u001b[32m     98\u001b[39m     \u001b[33m\"\u001b[39m\u001b[33mreceive_response_headers\u001b[39m\u001b[33m\"\u001b[39m, logger, request, kwargs\n\u001b[32m     99\u001b[39m ) \u001b[38;5;28;01mas\u001b[39;00m trace:\n\u001b[32m    100\u001b[39m     (\n\u001b[32m    101\u001b[39m         http_version,\n\u001b[32m    102\u001b[39m         status,\n\u001b[32m    103\u001b[39m         reason_phrase,\n\u001b[32m    104\u001b[39m         headers,\n\u001b[32m    105\u001b[39m         trailing_data,\n\u001b[32m--> \u001b[39m\u001b[32m106\u001b[39m     ) = \u001b[38;5;28;43mself\u001b[39;49m\u001b[43m.\u001b[49m\u001b[43m_receive_response_headers\u001b[49m\u001b[43m(\u001b[49m\u001b[43m*\u001b[49m\u001b[43m*\u001b[49m\u001b[43mkwargs\u001b[49m\u001b[43m)\u001b[49m\n\u001b[32m    107\u001b[39m     trace.return_value = (\n\u001b[32m    108\u001b[39m         http_version,\n\u001b[32m    109\u001b[39m         status,\n\u001b[32m    110\u001b[39m         reason_phrase,\n\u001b[32m    111\u001b[39m         headers,\n\u001b[32m    112\u001b[39m     )\n\u001b[32m    114\u001b[39m network_stream = \u001b[38;5;28mself\u001b[39m._network_stream\n",
      "\u001b[36mFile \u001b[39m\u001b[32m~/Library/CloudStorage/OneDrive-SAPSE/SR@Work/81.Innovations/98.AI_Developments/33.AI_MSDS/.venv/lib/python3.13/site-packages/httpcore/_sync/http11.py:177\u001b[39m, in \u001b[36mHTTP11Connection._receive_response_headers\u001b[39m\u001b[34m(self, request)\u001b[39m\n\u001b[32m    174\u001b[39m timeout = timeouts.get(\u001b[33m\"\u001b[39m\u001b[33mread\u001b[39m\u001b[33m\"\u001b[39m, \u001b[38;5;28;01mNone\u001b[39;00m)\n\u001b[32m    176\u001b[39m \u001b[38;5;28;01mwhile\u001b[39;00m \u001b[38;5;28;01mTrue\u001b[39;00m:\n\u001b[32m--> \u001b[39m\u001b[32m177\u001b[39m     event = \u001b[38;5;28;43mself\u001b[39;49m\u001b[43m.\u001b[49m\u001b[43m_receive_event\u001b[49m\u001b[43m(\u001b[49m\u001b[43mtimeout\u001b[49m\u001b[43m=\u001b[49m\u001b[43mtimeout\u001b[49m\u001b[43m)\u001b[49m\n\u001b[32m    178\u001b[39m     \u001b[38;5;28;01mif\u001b[39;00m \u001b[38;5;28misinstance\u001b[39m(event, h11.Response):\n\u001b[32m    179\u001b[39m         \u001b[38;5;28;01mbreak\u001b[39;00m\n",
      "\u001b[36mFile \u001b[39m\u001b[32m~/Library/CloudStorage/OneDrive-SAPSE/SR@Work/81.Innovations/98.AI_Developments/33.AI_MSDS/.venv/lib/python3.13/site-packages/httpcore/_sync/http11.py:217\u001b[39m, in \u001b[36mHTTP11Connection._receive_event\u001b[39m\u001b[34m(self, timeout)\u001b[39m\n\u001b[32m    214\u001b[39m     event = \u001b[38;5;28mself\u001b[39m._h11_state.next_event()\n\u001b[32m    216\u001b[39m \u001b[38;5;28;01mif\u001b[39;00m event \u001b[38;5;129;01mis\u001b[39;00m h11.NEED_DATA:\n\u001b[32m--> \u001b[39m\u001b[32m217\u001b[39m     data = \u001b[38;5;28;43mself\u001b[39;49m\u001b[43m.\u001b[49m\u001b[43m_network_stream\u001b[49m\u001b[43m.\u001b[49m\u001b[43mread\u001b[49m\u001b[43m(\u001b[49m\n\u001b[32m    218\u001b[39m \u001b[43m        \u001b[49m\u001b[38;5;28;43mself\u001b[39;49m\u001b[43m.\u001b[49m\u001b[43mREAD_NUM_BYTES\u001b[49m\u001b[43m,\u001b[49m\u001b[43m \u001b[49m\u001b[43mtimeout\u001b[49m\u001b[43m=\u001b[49m\u001b[43mtimeout\u001b[49m\n\u001b[32m    219\u001b[39m \u001b[43m    \u001b[49m\u001b[43m)\u001b[49m\n\u001b[32m    221\u001b[39m     \u001b[38;5;66;03m# If we feed this case through h11 we'll raise an exception like:\u001b[39;00m\n\u001b[32m    222\u001b[39m     \u001b[38;5;66;03m#\u001b[39;00m\n\u001b[32m    223\u001b[39m     \u001b[38;5;66;03m#     httpcore.RemoteProtocolError: can't handle event type\u001b[39;00m\n\u001b[32m   (...)\u001b[39m\u001b[32m    227\u001b[39m     \u001b[38;5;66;03m# perspective. Instead we handle this case distinctly and treat\u001b[39;00m\n\u001b[32m    228\u001b[39m     \u001b[38;5;66;03m# it as a ConnectError.\u001b[39;00m\n\u001b[32m    229\u001b[39m     \u001b[38;5;28;01mif\u001b[39;00m data == \u001b[33mb\u001b[39m\u001b[33m\"\u001b[39m\u001b[33m\"\u001b[39m \u001b[38;5;129;01mand\u001b[39;00m \u001b[38;5;28mself\u001b[39m._h11_state.their_state == h11.SEND_RESPONSE:\n",
      "\u001b[36mFile \u001b[39m\u001b[32m~/Library/CloudStorage/OneDrive-SAPSE/SR@Work/81.Innovations/98.AI_Developments/33.AI_MSDS/.venv/lib/python3.13/site-packages/httpcore/_backends/sync.py:128\u001b[39m, in \u001b[36mSyncStream.read\u001b[39m\u001b[34m(self, max_bytes, timeout)\u001b[39m\n\u001b[32m    126\u001b[39m \u001b[38;5;28;01mwith\u001b[39;00m map_exceptions(exc_map):\n\u001b[32m    127\u001b[39m     \u001b[38;5;28mself\u001b[39m._sock.settimeout(timeout)\n\u001b[32m--> \u001b[39m\u001b[32m128\u001b[39m     \u001b[38;5;28;01mreturn\u001b[39;00m \u001b[38;5;28;43mself\u001b[39;49m\u001b[43m.\u001b[49m\u001b[43m_sock\u001b[49m\u001b[43m.\u001b[49m\u001b[43mrecv\u001b[49m\u001b[43m(\u001b[49m\u001b[43mmax_bytes\u001b[49m\u001b[43m)\u001b[49m\n",
      "\u001b[36mFile \u001b[39m\u001b[32m/Library/Frameworks/Python.framework/Versions/3.13/lib/python3.13/ssl.py:1285\u001b[39m, in \u001b[36mSSLSocket.recv\u001b[39m\u001b[34m(self, buflen, flags)\u001b[39m\n\u001b[32m   1281\u001b[39m     \u001b[38;5;28;01mif\u001b[39;00m flags != \u001b[32m0\u001b[39m:\n\u001b[32m   1282\u001b[39m         \u001b[38;5;28;01mraise\u001b[39;00m \u001b[38;5;167;01mValueError\u001b[39;00m(\n\u001b[32m   1283\u001b[39m             \u001b[33m\"\u001b[39m\u001b[33mnon-zero flags not allowed in calls to recv() on \u001b[39m\u001b[38;5;132;01m%s\u001b[39;00m\u001b[33m\"\u001b[39m %\n\u001b[32m   1284\u001b[39m             \u001b[38;5;28mself\u001b[39m.\u001b[34m__class__\u001b[39m)\n\u001b[32m-> \u001b[39m\u001b[32m1285\u001b[39m     \u001b[38;5;28;01mreturn\u001b[39;00m \u001b[38;5;28;43mself\u001b[39;49m\u001b[43m.\u001b[49m\u001b[43mread\u001b[49m\u001b[43m(\u001b[49m\u001b[43mbuflen\u001b[49m\u001b[43m)\u001b[49m\n\u001b[32m   1286\u001b[39m \u001b[38;5;28;01melse\u001b[39;00m:\n\u001b[32m   1287\u001b[39m     \u001b[38;5;28;01mreturn\u001b[39;00m \u001b[38;5;28msuper\u001b[39m().recv(buflen, flags)\n",
      "\u001b[36mFile \u001b[39m\u001b[32m/Library/Frameworks/Python.framework/Versions/3.13/lib/python3.13/ssl.py:1140\u001b[39m, in \u001b[36mSSLSocket.read\u001b[39m\u001b[34m(self, len, buffer)\u001b[39m\n\u001b[32m   1138\u001b[39m         \u001b[38;5;28;01mreturn\u001b[39;00m \u001b[38;5;28mself\u001b[39m._sslobj.read(\u001b[38;5;28mlen\u001b[39m, buffer)\n\u001b[32m   1139\u001b[39m     \u001b[38;5;28;01melse\u001b[39;00m:\n\u001b[32m-> \u001b[39m\u001b[32m1140\u001b[39m         \u001b[38;5;28;01mreturn\u001b[39;00m \u001b[38;5;28;43mself\u001b[39;49m\u001b[43m.\u001b[49m\u001b[43m_sslobj\u001b[49m\u001b[43m.\u001b[49m\u001b[43mread\u001b[49m\u001b[43m(\u001b[49m\u001b[38;5;28;43mlen\u001b[39;49m\u001b[43m)\u001b[49m\n\u001b[32m   1141\u001b[39m \u001b[38;5;28;01mexcept\u001b[39;00m SSLError \u001b[38;5;28;01mas\u001b[39;00m x:\n\u001b[32m   1142\u001b[39m     \u001b[38;5;28;01mif\u001b[39;00m x.args[\u001b[32m0\u001b[39m] == SSL_ERROR_EOF \u001b[38;5;129;01mand\u001b[39;00m \u001b[38;5;28mself\u001b[39m.suppress_ragged_eofs:\n",
      "\u001b[31mKeyboardInterrupt\u001b[39m: "
     ]
    }
   ],
   "source": [
    "from llm_client import CL_Orchestration_Service\n",
    "import logging\n",
    "\n",
    "# Configure logging\n",
    "logging.basicConfig(level=logging.INFO)\n",
    "logger = logging.getLogger(__name__)\n",
    "\n",
    "\n",
    "obj_orch_client = CL_Orchestration_Service(aic_config, orch_model_params)\n",
    "\n",
    "# Run orchestration with the prompt and model parameters\n",
    "try:\n",
    "    result = obj_orch_client.run_orchestration(prompt, error_context=\"MSDS_Analysis\")\n",
    "    print(\"Orchestration Result:\")\n",
    "    print(result)\n",
    "except Exception as e:\n",
    "    logger.error(\"Error during orchestration: %s\", e)\n",
    "    print(f\"Error during orchestration: {e}\")"
   ]
  }
 ],
 "metadata": {
  "kernelspec": {
   "display_name": ".venv",
   "language": "python",
   "name": "python3"
  },
  "language_info": {
   "codemirror_mode": {
    "name": "ipython",
    "version": 3
   },
   "file_extension": ".py",
   "mimetype": "text/x-python",
   "name": "python",
   "nbconvert_exporter": "python",
   "pygments_lexer": "ipython3",
   "version": "3.13.3"
  }
 },
 "nbformat": 4,
 "nbformat_minor": 5
}
